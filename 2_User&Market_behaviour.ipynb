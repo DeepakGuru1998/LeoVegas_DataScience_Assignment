{
 "cells": [
  {
   "cell_type": "markdown",
   "metadata": {
    "application/vnd.databricks.v1+cell": {
     "cellMetadata": {},
     "inputWidgets": {},
     "nuid": "ac268540-9276-49f0-967b-37f1d626ca32",
     "showTitle": false,
     "tableResultSettingsMap": {},
     "title": ""
    }
   },
   "source": [
    "#### **In this notebook, I perform various analysis and statistics to understand the market behaviour in betting, and help make decisions by the company focusing on certain events, countries and leagues.** "
   ]
  },
  {
   "cell_type": "code",
   "execution_count": 0,
   "metadata": {
    "application/vnd.databricks.v1+cell": {
     "cellMetadata": {
      "byteLimit": 2048000,
      "rowLimit": 10000
     },
     "inputWidgets": {},
     "nuid": "dc01be5d-bed9-404b-8b29-e293986e1295",
     "showTitle": false,
     "tableResultSettingsMap": {},
     "title": ""
    }
   },
   "outputs": [],
   "source": [
    "import pandas as pd\n",
    "import numpy as np\n",
    "from sklearn.preprocessing import LabelEncoder\n",
    "from sklearn import preprocessing\n"
   ]
  },
  {
   "cell_type": "code",
   "execution_count": 0,
   "metadata": {
    "application/vnd.databricks.v1+cell": {
     "cellMetadata": {
      "byteLimit": 2048000,
      "rowLimit": 10000
     },
     "inputWidgets": {},
     "nuid": "5f21383c-cc68-4a9c-9e97-273caf7895b5",
     "showTitle": false,
     "tableResultSettingsMap": {},
     "title": ""
    }
   },
   "outputs": [],
   "source": [
    "df = pd.read_csv('/Workspace/Users/deepak.guru.ganesan@volvo.com/leovegas/dataset_cleaned.csv').drop(['Unnamed: 0'], axis=1)"
   ]
  },
  {
   "cell_type": "markdown",
   "metadata": {
    "application/vnd.databricks.v1+cell": {
     "cellMetadata": {},
     "inputWidgets": {},
     "nuid": "ddfe19fd-10ae-4307-a7e1-832d37e38764",
     "showTitle": false,
     "tableResultSettingsMap": {},
     "title": ""
    }
   },
   "source": [
    "#### Top 15 Events to look out for"
   ]
  },
  {
   "cell_type": "code",
   "execution_count": 0,
   "metadata": {
    "application/vnd.databricks.v1+cell": {
     "cellMetadata": {
      "byteLimit": 2048000,
      "rowLimit": 10000
     },
     "inputWidgets": {},
     "nuid": "3edf375d-f01b-47a8-a11d-ede9844af8b0",
     "showTitle": false,
     "tableResultSettingsMap": {},
     "title": ""
    }
   },
   "outputs": [
    {
     "output_type": "execute_result",
     "data": {
      "text/html": [
       "<div>\n",
       "<style scoped>\n",
       "    .dataframe tbody tr th:only-of-type {\n",
       "        vertical-align: middle;\n",
       "    }\n",
       "\n",
       "    .dataframe tbody tr th {\n",
       "        vertical-align: top;\n",
       "    }\n",
       "\n",
       "    .dataframe thead th {\n",
       "        text-align: right;\n",
       "    }\n",
       "</style>\n",
       "<table border=\"1\" class=\"dataframe\">\n",
       "  <thead>\n",
       "    <tr style=\"text-align: right;\">\n",
       "      <th></th>\n",
       "      <th>eventName</th>\n",
       "      <th>league</th>\n",
       "      <th>number_of_bets</th>\n",
       "    </tr>\n",
       "  </thead>\n",
       "  <tbody>\n",
       "    <tr>\n",
       "      <th>5499</th>\n",
       "      <td>Cleveland Cavaliers - Orlando Magic</td>\n",
       "      <td>NBA</td>\n",
       "      <td>84572</td>\n",
       "    </tr>\n",
       "    <tr>\n",
       "      <th>13477</th>\n",
       "      <td>Milwaukee Bucks - Indiana Pacers</td>\n",
       "      <td>NBA</td>\n",
       "      <td>76878</td>\n",
       "    </tr>\n",
       "    <tr>\n",
       "      <th>16184</th>\n",
       "      <td>Philadelphia 76ers - New York Knicks</td>\n",
       "      <td>NBA</td>\n",
       "      <td>75580</td>\n",
       "    </tr>\n",
       "    <tr>\n",
       "      <th>14430</th>\n",
       "      <td>New York Knicks - Indiana Pacers</td>\n",
       "      <td>NBA</td>\n",
       "      <td>66748</td>\n",
       "    </tr>\n",
       "    <tr>\n",
       "      <th>13575</th>\n",
       "      <td>Minnesota Timberwolves - Dallas Mavericks</td>\n",
       "      <td>NBA</td>\n",
       "      <td>65008</td>\n",
       "    </tr>\n",
       "    <tr>\n",
       "      <th>10189</th>\n",
       "      <td>Indiana Pacers - Boston Celtics</td>\n",
       "      <td>NBA</td>\n",
       "      <td>64249</td>\n",
       "    </tr>\n",
       "    <tr>\n",
       "      <th>6603</th>\n",
       "      <td>Denver Nuggets - Minnesota Timberwolves</td>\n",
       "      <td>NBA</td>\n",
       "      <td>63002</td>\n",
       "    </tr>\n",
       "    <tr>\n",
       "      <th>3481</th>\n",
       "      <td>Boston Celtics - Cleveland Cavaliers</td>\n",
       "      <td>NBA</td>\n",
       "      <td>62526</td>\n",
       "    </tr>\n",
       "    <tr>\n",
       "      <th>13577</th>\n",
       "      <td>Minnesota Timberwolves - Denver Nuggets</td>\n",
       "      <td>NBA</td>\n",
       "      <td>56393</td>\n",
       "    </tr>\n",
       "    <tr>\n",
       "      <th>10210</th>\n",
       "      <td>Indiana Pacers - New York Knicks</td>\n",
       "      <td>NBA</td>\n",
       "      <td>55610</td>\n",
       "    </tr>\n",
       "    <tr>\n",
       "      <th>12320</th>\n",
       "      <td>Los Angeles Lakers - Denver Nuggets</td>\n",
       "      <td>NBA</td>\n",
       "      <td>54466</td>\n",
       "    </tr>\n",
       "    <tr>\n",
       "      <th>6321</th>\n",
       "      <td>Dallas Mavericks - Minnesota Timberwolves</td>\n",
       "      <td>NBA</td>\n",
       "      <td>53050</td>\n",
       "    </tr>\n",
       "    <tr>\n",
       "      <th>15234</th>\n",
       "      <td>Oklahoma City Thunder - Dallas Mavericks</td>\n",
       "      <td>NBA</td>\n",
       "      <td>52841</td>\n",
       "    </tr>\n",
       "    <tr>\n",
       "      <th>3483</th>\n",
       "      <td>Boston Celtics - Dallas Mavericks</td>\n",
       "      <td>NBA</td>\n",
       "      <td>50972</td>\n",
       "    </tr>\n",
       "    <tr>\n",
       "      <th>6324</th>\n",
       "      <td>Dallas Mavericks - Oklahoma City Thunder</td>\n",
       "      <td>NBA</td>\n",
       "      <td>47638</td>\n",
       "    </tr>\n",
       "  </tbody>\n",
       "</table>\n",
       "</div>"
      ],
      "text/plain": [
       "                                       eventName league  number_of_bets\n",
       "5499         Cleveland Cavaliers - Orlando Magic    NBA           84572\n",
       "13477           Milwaukee Bucks - Indiana Pacers    NBA           76878\n",
       "16184       Philadelphia 76ers - New York Knicks    NBA           75580\n",
       "14430           New York Knicks - Indiana Pacers    NBA           66748\n",
       "13575  Minnesota Timberwolves - Dallas Mavericks    NBA           65008\n",
       "10189            Indiana Pacers - Boston Celtics    NBA           64249\n",
       "6603     Denver Nuggets - Minnesota Timberwolves    NBA           63002\n",
       "3481        Boston Celtics - Cleveland Cavaliers    NBA           62526\n",
       "13577    Minnesota Timberwolves - Denver Nuggets    NBA           56393\n",
       "10210           Indiana Pacers - New York Knicks    NBA           55610\n",
       "12320        Los Angeles Lakers - Denver Nuggets    NBA           54466\n",
       "6321   Dallas Mavericks - Minnesota Timberwolves    NBA           53050\n",
       "15234   Oklahoma City Thunder - Dallas Mavericks    NBA           52841\n",
       "3483           Boston Celtics - Dallas Mavericks    NBA           50972\n",
       "6324    Dallas Mavericks - Oklahoma City Thunder    NBA           47638"
      ]
     },
     "execution_count": 44,
     "metadata": {},
     "output_type": "execute_result"
    }
   ],
   "source": [
    "# Aggregate data: count number of bets for each event and league\n",
    "heatmap_data = df.groupby(['eventName', 'league'])['number_of_bets'].sum().reset_index()\n",
    "\n",
    "# Handling missing data by filling with 0s or dropping if necessary\n",
    "heatmap_data.sort_values(by=\"number_of_bets\", ascending=False).head(15)"
   ]
  },
  {
   "cell_type": "markdown",
   "metadata": {
    "application/vnd.databricks.v1+cell": {
     "cellMetadata": {},
     "inputWidgets": {},
     "nuid": "8b4b41a4-9bc1-499d-9d34-aeb801c265cd",
     "showTitle": false,
     "tableResultSettingsMap": {},
     "title": ""
    }
   },
   "source": [
    "#### Top 15 Leagues wrt to Number of Bets made"
   ]
  },
  {
   "cell_type": "code",
   "execution_count": 0,
   "metadata": {
    "application/vnd.databricks.v1+cell": {
     "cellMetadata": {
      "byteLimit": 2048000,
      "rowLimit": 10000
     },
     "inputWidgets": {},
     "nuid": "440a6e6e-0ef9-43ad-90ba-4c3ecb1aa5a2",
     "showTitle": false,
     "tableResultSettingsMap": {},
     "title": ""
    }
   },
   "outputs": [
    {
     "output_type": "execute_result",
     "data": {
      "text/html": [
       "<div>\n",
       "<style scoped>\n",
       "    .dataframe tbody tr th:only-of-type {\n",
       "        vertical-align: middle;\n",
       "    }\n",
       "\n",
       "    .dataframe tbody tr th {\n",
       "        vertical-align: top;\n",
       "    }\n",
       "\n",
       "    .dataframe thead th {\n",
       "        text-align: right;\n",
       "    }\n",
       "</style>\n",
       "<table border=\"1\" class=\"dataframe\">\n",
       "  <thead>\n",
       "    <tr style=\"text-align: right;\">\n",
       "      <th></th>\n",
       "      <th>event_country</th>\n",
       "      <th>league</th>\n",
       "      <th>number_of_bets</th>\n",
       "      <th>total_turn_over_EUR</th>\n",
       "    </tr>\n",
       "  </thead>\n",
       "  <tbody>\n",
       "    <tr>\n",
       "      <th>267</th>\n",
       "      <td>USA</td>\n",
       "      <td>NBA</td>\n",
       "      <td>9945533</td>\n",
       "      <td>1.695683e+08</td>\n",
       "    </tr>\n",
       "    <tr>\n",
       "      <th>327</th>\n",
       "      <td>Unknown</td>\n",
       "      <td>NCAAB</td>\n",
       "      <td>1282587</td>\n",
       "      <td>2.397139e+07</td>\n",
       "    </tr>\n",
       "    <tr>\n",
       "      <th>302</th>\n",
       "      <td>Unknown</td>\n",
       "      <td>Euroleague</td>\n",
       "      <td>744576</td>\n",
       "      <td>1.678869e+07</td>\n",
       "    </tr>\n",
       "    <tr>\n",
       "      <th>46</th>\n",
       "      <td>China</td>\n",
       "      <td>CBA</td>\n",
       "      <td>535860</td>\n",
       "      <td>1.194440e+07</td>\n",
       "    </tr>\n",
       "    <tr>\n",
       "      <th>277</th>\n",
       "      <td>USA</td>\n",
       "      <td>WNBA</td>\n",
       "      <td>427888</td>\n",
       "      <td>1.244395e+07</td>\n",
       "    </tr>\n",
       "    <tr>\n",
       "      <th>232</th>\n",
       "      <td>South Korea</td>\n",
       "      <td>KBL</td>\n",
       "      <td>323843</td>\n",
       "      <td>7.764920e+06</td>\n",
       "    </tr>\n",
       "    <tr>\n",
       "      <th>192</th>\n",
       "      <td>Philippines</td>\n",
       "      <td>PBA</td>\n",
       "      <td>323567</td>\n",
       "      <td>9.722244e+06</td>\n",
       "    </tr>\n",
       "    <tr>\n",
       "      <th>39</th>\n",
       "      <td>Brazil</td>\n",
       "      <td>NBB</td>\n",
       "      <td>259861</td>\n",
       "      <td>6.443123e+06</td>\n",
       "    </tr>\n",
       "    <tr>\n",
       "      <th>239</th>\n",
       "      <td>Spain</td>\n",
       "      <td>Liga ACB</td>\n",
       "      <td>255942</td>\n",
       "      <td>6.510510e+06</td>\n",
       "    </tr>\n",
       "    <tr>\n",
       "      <th>12</th>\n",
       "      <td>Australia</td>\n",
       "      <td>NBL</td>\n",
       "      <td>248681</td>\n",
       "      <td>7.684671e+06</td>\n",
       "    </tr>\n",
       "    <tr>\n",
       "      <th>103</th>\n",
       "      <td>Germany</td>\n",
       "      <td>BBL</td>\n",
       "      <td>225400</td>\n",
       "      <td>4.691322e+06</td>\n",
       "    </tr>\n",
       "    <tr>\n",
       "      <th>299</th>\n",
       "      <td>Unknown</td>\n",
       "      <td>EuroCup</td>\n",
       "      <td>206926</td>\n",
       "      <td>6.142056e+06</td>\n",
       "    </tr>\n",
       "    <tr>\n",
       "      <th>159</th>\n",
       "      <td>Japan</td>\n",
       "      <td>B.League</td>\n",
       "      <td>198244</td>\n",
       "      <td>5.192075e+06</td>\n",
       "    </tr>\n",
       "    <tr>\n",
       "      <th>264</th>\n",
       "      <td>Turkey</td>\n",
       "      <td>Super League</td>\n",
       "      <td>198079</td>\n",
       "      <td>6.199243e+06</td>\n",
       "    </tr>\n",
       "    <tr>\n",
       "      <th>5</th>\n",
       "      <td>Argentina</td>\n",
       "      <td>LNB</td>\n",
       "      <td>196642</td>\n",
       "      <td>3.527570e+06</td>\n",
       "    </tr>\n",
       "  </tbody>\n",
       "</table>\n",
       "</div>"
      ],
      "text/plain": [
       "    event_country        league  number_of_bets  total_turn_over_EUR\n",
       "267           USA           NBA         9945533         1.695683e+08\n",
       "327       Unknown         NCAAB         1282587         2.397139e+07\n",
       "302       Unknown    Euroleague          744576         1.678869e+07\n",
       "46          China           CBA          535860         1.194440e+07\n",
       "277           USA          WNBA          427888         1.244395e+07\n",
       "232   South Korea           KBL          323843         7.764920e+06\n",
       "192   Philippines           PBA          323567         9.722244e+06\n",
       "39         Brazil           NBB          259861         6.443123e+06\n",
       "239         Spain      Liga ACB          255942         6.510510e+06\n",
       "12      Australia           NBL          248681         7.684671e+06\n",
       "103       Germany           BBL          225400         4.691322e+06\n",
       "299       Unknown       EuroCup          206926         6.142056e+06\n",
       "159         Japan      B.League          198244         5.192075e+06\n",
       "264        Turkey  Super League          198079         6.199243e+06\n",
       "5       Argentina           LNB          196642         3.527570e+06"
      ]
     },
     "execution_count": 45,
     "metadata": {},
     "output_type": "execute_result"
    }
   ],
   "source": [
    "heatmap_data_country_league = df.groupby(['event_country', 'league'])[['number_of_bets','total_turn_over_EUR']].sum().reset_index()\n",
    "heatmap_data_country_league.sort_values(by=\"number_of_bets\", ascending=False).head(15)"
   ]
  },
  {
   "cell_type": "code",
   "execution_count": 0,
   "metadata": {
    "application/vnd.databricks.v1+cell": {
     "cellMetadata": {
      "byteLimit": 2048000,
      "rowLimit": 10000
     },
     "inputWidgets": {},
     "nuid": "56ef05d6-76a1-4ba9-8725-3fca394bfccf",
     "showTitle": false,
     "tableResultSettingsMap": {},
     "title": ""
    }
   },
   "outputs": [
    {
     "output_type": "display_data",
     "data": {
      "image/png": "[encoded data removed]",
      "text/plain": [
       "<Figure size 1200x600 with 1 Axes>"
      ]
     },
     "metadata": {},
     "output_type": "display_data"
    }
   ],
   "source": [
    "import matplotlib.pyplot as plt\n",
    "\n",
    "df['bet_placement_hour'] = pd.to_datetime(df['bet_placement_hour'])\n",
    "\n",
    "# Aggregate data by hour\n",
    "hourly_bets = df.groupby(df['bet_placement_hour'].dt.hour)['number_of_bets'].sum().reset_index()\n",
    "\n",
    "# Plotting the data\n",
    "plt.figure(figsize=(12, 6))\n",
    "plt.plot(hourly_bets['bet_placement_hour'], hourly_bets['number_of_bets'], marker='o')\n",
    "plt.title('Total Bets Placed by Hour')\n",
    "plt.xlabel('Hour of Day')\n",
    "plt.ylabel('Number of Bets')\n",
    "plt.xticks(range(0, 24))\n",
    "plt.grid()\n",
    "plt.show()"
   ]
  },
  {
   "cell_type": "markdown",
   "metadata": {
    "application/vnd.databricks.v1+cell": {
     "cellMetadata": {},
     "inputWidgets": {},
     "nuid": "8de04e35-06a9-4c79-86e3-a6988605704d",
     "showTitle": false,
     "tableResultSettingsMap": {},
     "title": ""
    }
   },
   "source": [
    "#### Identifying the least engaging hours of the day"
   ]
  },
  {
   "cell_type": "code",
   "execution_count": 0,
   "metadata": {
    "application/vnd.databricks.v1+cell": {
     "cellMetadata": {
      "byteLimit": 2048000,
      "rowLimit": 10000
     },
     "inputWidgets": {},
     "nuid": "d443aaa1-a27e-450b-89de-142538bda89d",
     "showTitle": false,
     "tableResultSettingsMap": {},
     "title": ""
    }
   },
   "outputs": [
    {
     "output_type": "stream",
     "name": "stdout",
     "output_type": "stream",
     "text": [
      "   bet_placement_hour  number_of_bets   Z-Score\n4                   4          271268 -1.117777\n5                   5          247416 -1.162475\n6                   6          243164 -1.170443\n7                   7          307607 -1.049678\n"
     ]
    }
   ],
   "source": [
    "# Calculate mean and standard deviation\n",
    "mean_bets = hourly_bets['number_of_bets'].mean()\n",
    "std_bets = hourly_bets['number_of_bets'].std()\n",
    "\n",
    "# Calculate z-scores\n",
    "hourly_bets['Z-Score'] = (hourly_bets['number_of_bets'] - mean_bets) / std_bets\n",
    "\n",
    "# Identify least engaging times (e.g., z-score < -1)\n",
    "least_engaging_times = hourly_bets[hourly_bets['Z-Score'] < -1]\n",
    "print(least_engaging_times[['bet_placement_hour', 'number_of_bets', 'Z-Score']])"
   ]
  },
  {
   "cell_type": "markdown",
   "metadata": {
    "application/vnd.databricks.v1+cell": {
     "cellMetadata": {},
     "inputWidgets": {},
     "nuid": "089df332-5341-4dff-8acc-b4ea34cba242",
     "showTitle": false,
     "tableResultSettingsMap": {},
     "title": ""
    }
   },
   "source": [
    "#### Z score validation for the result"
   ]
  },
  {
   "cell_type": "code",
   "execution_count": 0,
   "metadata": {
    "application/vnd.databricks.v1+cell": {
     "cellMetadata": {
      "byteLimit": 2048000,
      "rowLimit": 10000
     },
     "inputWidgets": {},
     "nuid": "283a3f43-a663-4874-af97-9257640dbd6b",
     "showTitle": false,
     "tableResultSettingsMap": {},
     "title": ""
    }
   },
   "outputs": [
    {
     "output_type": "display_data",
     "data": {
      "image/png": "[encoded data removed]",
      "text/plain": [
       "<Figure size 1200x600 with 1 Axes>"
      ]
     },
     "metadata": {},
     "output_type": "display_data"
    }
   ],
   "source": [
    "plt.figure(figsize=(12, 6))\n",
    "plt.bar(hourly_bets['bet_placement_hour'], hourly_bets['Z-Score'], color='skyblue')\n",
    "plt.axhline(y=-1, color='red', linestyle='--', label='Z-Score = -1')\n",
    "plt.title('Z-Scores of Bets Placed by Hour')\n",
    "plt.xlabel('Hour of Day')\n",
    "plt.ylabel('Z-Score')\n",
    "plt.xticks(range(0, 24))\n",
    "plt.legend()\n",
    "plt.grid()\n",
    "plt.show()"
   ]
  },
  {
   "cell_type": "markdown",
   "metadata": {
    "application/vnd.databricks.v1+cell": {
     "cellMetadata": {},
     "inputWidgets": {},
     "nuid": "0bcea1f0-d17f-4c24-b94c-8bd581ff9fff",
     "showTitle": false,
     "tableResultSettingsMap": {},
     "title": ""
    }
   },
   "source": [
    "**Based on this graph, we can say that hours 4,5,6,7 are below Z-threshold of -1 which is in the left most tail of the normal distribution curve. This denotes that these hours are least engaging.**"
   ]
  },
  {
   "cell_type": "markdown",
   "metadata": {
    "application/vnd.databricks.v1+cell": {
     "cellMetadata": {},
     "inputWidgets": {},
     "nuid": "e228e2f8-056c-4476-ae04-8f989990fa26",
     "showTitle": false,
     "tableResultSettingsMap": {},
     "title": ""
    }
   },
   "source": [
    "#### Turn Over Statistics in Euros for Live vs Prematch Betting"
   ]
  },
  {
   "cell_type": "code",
   "execution_count": 0,
   "metadata": {
    "application/vnd.databricks.v1+cell": {
     "cellMetadata": {
      "byteLimit": 2048000,
      "rowLimit": 10000
     },
     "inputWidgets": {},
     "nuid": "7bc5d9cb-db00-4e32-9390-5800d95c103f",
     "showTitle": false,
     "tableResultSettingsMap": {},
     "title": ""
    }
   },
   "outputs": [
    {
     "output_type": "display_data",
     "data": {
      "image/png": "[encoded data removed]",
      "text/plain": [
       "<Figure size 1400x700 with 1 Axes>"
      ]
     },
     "metadata": {},
     "output_type": "display_data"
    },
    {
     "output_type": "stream",
     "name": "stdout",
     "output_type": "stream",
     "text": [
      "Summary Statistics for Turnover Comparison:\n"
     ]
    },
    {
     "output_type": "execute_result",
     "data": {
      "text/html": [
       "<div>\n",
       "<style scoped>\n",
       "    .dataframe tbody tr th:only-of-type {\n",
       "        vertical-align: middle;\n",
       "    }\n",
       "\n",
       "    .dataframe tbody tr th {\n",
       "        vertical-align: top;\n",
       "    }\n",
       "\n",
       "    .dataframe thead th {\n",
       "        text-align: right;\n",
       "    }\n",
       "</style>\n",
       "<table border=\"1\" class=\"dataframe\">\n",
       "  <thead>\n",
       "    <tr style=\"text-align: right;\">\n",
       "      <th></th>\n",
       "      <th>league</th>\n",
       "      <th>Mean_Turnover_Live</th>\n",
       "      <th>Median_Turnover_Live</th>\n",
       "      <th>Mean_Turnover_Pre_Match</th>\n",
       "      <th>Median_Turnover_Pre_Match</th>\n",
       "    </tr>\n",
       "  </thead>\n",
       "  <tbody>\n",
       "    <tr>\n",
       "      <th>203</th>\n",
       "      <td>Olympic Qualification</td>\n",
       "      <td>23747.084401</td>\n",
       "      <td>17528.762247</td>\n",
       "      <td>2228.718587</td>\n",
       "      <td>51.027480</td>\n",
       "    </tr>\n",
       "    <tr>\n",
       "      <th>174</th>\n",
       "      <td>NBA</td>\n",
       "      <td>18615.828512</td>\n",
       "      <td>11061.290107</td>\n",
       "      <td>3221.697451</td>\n",
       "      <td>261.088982</td>\n",
       "    </tr>\n",
       "    <tr>\n",
       "      <th>107</th>\n",
       "      <td>FIBA World Cup (W) Qualification</td>\n",
       "      <td>18013.956476</td>\n",
       "      <td>11710.573457</td>\n",
       "      <td>2872.844636</td>\n",
       "      <td>64.098072</td>\n",
       "    </tr>\n",
       "    <tr>\n",
       "      <th>175</th>\n",
       "      <td>NBA All Star Game</td>\n",
       "      <td>17553.324309</td>\n",
       "      <td>17553.324309</td>\n",
       "      <td>3533.716243</td>\n",
       "      <td>126.943404</td>\n",
       "    </tr>\n",
       "    <tr>\n",
       "      <th>105</th>\n",
       "      <td>FIBA South American Championship (W)</td>\n",
       "      <td>17130.159597</td>\n",
       "      <td>8794.269837</td>\n",
       "      <td>2231.905914</td>\n",
       "      <td>43.071747</td>\n",
       "    </tr>\n",
       "    <tr>\n",
       "      <th>258</th>\n",
       "      <td>WNBA All-Star Weekend</td>\n",
       "      <td>14017.827737</td>\n",
       "      <td>14017.827737</td>\n",
       "      <td>404.868138</td>\n",
       "      <td>46.274785</td>\n",
       "    </tr>\n",
       "    <tr>\n",
       "      <th>257</th>\n",
       "      <td>WNBA</td>\n",
       "      <td>13243.957634</td>\n",
       "      <td>9115.824908</td>\n",
       "      <td>1212.613220</td>\n",
       "      <td>49.554509</td>\n",
       "    </tr>\n",
       "    <tr>\n",
       "      <th>85</th>\n",
       "      <td>Euroleague</td>\n",
       "      <td>13115.681923</td>\n",
       "      <td>9536.221147</td>\n",
       "      <td>927.591005</td>\n",
       "      <td>37.379820</td>\n",
       "    </tr>\n",
       "    <tr>\n",
       "      <th>227</th>\n",
       "      <td>Supercopa</td>\n",
       "      <td>12800.321971</td>\n",
       "      <td>10056.285220</td>\n",
       "      <td>1842.904541</td>\n",
       "      <td>132.484237</td>\n",
       "    </tr>\n",
       "    <tr>\n",
       "      <th>255</th>\n",
       "      <td>WCBA (W)</td>\n",
       "      <td>12572.593680</td>\n",
       "      <td>8287.862609</td>\n",
       "      <td>11953.280005</td>\n",
       "      <td>7649.125386</td>\n",
       "    </tr>\n",
       "    <tr>\n",
       "      <th>182</th>\n",
       "      <td>NBL Preseason</td>\n",
       "      <td>12437.682046</td>\n",
       "      <td>7201.743900</td>\n",
       "      <td>9844.282023</td>\n",
       "      <td>10271.330029</td>\n",
       "    </tr>\n",
       "    <tr>\n",
       "      <th>91</th>\n",
       "      <td>European Championship for Small Countries</td>\n",
       "      <td>12182.043862</td>\n",
       "      <td>10435.132489</td>\n",
       "      <td>2140.716437</td>\n",
       "      <td>59.939563</td>\n",
       "    </tr>\n",
       "    <tr>\n",
       "      <th>97</th>\n",
       "      <td>FIBA Asia Champions Cup</td>\n",
       "      <td>12000.212400</td>\n",
       "      <td>8295.467547</td>\n",
       "      <td>10311.474358</td>\n",
       "      <td>7198.397756</td>\n",
       "    </tr>\n",
       "    <tr>\n",
       "      <th>115</th>\n",
       "      <td>Intercontinental Cup</td>\n",
       "      <td>11947.129123</td>\n",
       "      <td>9206.717937</td>\n",
       "      <td>1189.881562</td>\n",
       "      <td>46.260413</td>\n",
       "    </tr>\n",
       "    <tr>\n",
       "      <th>98</th>\n",
       "      <td>FIBA Asia Champions Cup Qual.</td>\n",
       "      <td>11947.028088</td>\n",
       "      <td>8579.937734</td>\n",
       "      <td>14160.719802</td>\n",
       "      <td>10231.705556</td>\n",
       "    </tr>\n",
       "  </tbody>\n",
       "</table>\n",
       "</div>"
      ],
      "text/plain": [
       "                                        league  ...  Median_Turnover_Pre_Match\n",
       "203                      Olympic Qualification  ...                  51.027480\n",
       "174                                        NBA  ...                 261.088982\n",
       "107           FIBA World Cup (W) Qualification  ...                  64.098072\n",
       "175                          NBA All Star Game  ...                 126.943404\n",
       "105       FIBA South American Championship (W)  ...                  43.071747\n",
       "258                      WNBA All-Star Weekend  ...                  46.274785\n",
       "257                                       WNBA  ...                  49.554509\n",
       "85                                  Euroleague  ...                  37.379820\n",
       "227                                  Supercopa  ...                 132.484237\n",
       "255                                   WCBA (W)  ...                7649.125386\n",
       "182                              NBL Preseason  ...               10271.330029\n",
       "91   European Championship for Small Countries  ...                  59.939563\n",
       "97                     FIBA Asia Champions Cup  ...                7198.397756\n",
       "115                       Intercontinental Cup  ...                  46.260413\n",
       "98               FIBA Asia Champions Cup Qual.  ...               10231.705556\n",
       "\n",
       "[15 rows x 5 columns]"
      ]
     },
     "execution_count": 33,
     "metadata": {},
     "output_type": "execute_result"
    }
   ],
   "source": [
    "import seaborn as sns\n",
    "# Convert 'Bet_placement_hour' and 'eventStartDate' to datetime\n",
    "df['eventStartDate'] = pd.to_datetime(df['eventStartDate'])\n",
    "\n",
    "# Create a new column to identify live bets\n",
    "df['is_live_bet'] = df['bet_placement_hour'] >= df['eventStartDate']\n",
    "\n",
    "# Separate live and pre-match bets\n",
    "live_bets = df[df['is_live_bet']]\n",
    "pre_match_bets = df[~df['is_live_bet']]\n",
    "\n",
    "# 1. Aggregate Turnover by Event\n",
    "live_turnover_by_event = live_bets.groupby('league')['total_turn_over_EUR'].agg(['mean', 'median', 'std', 'sum']).reset_index()\n",
    "pre_match_turnover_by_event = pre_match_bets.groupby('league')['total_turn_over_EUR'].agg(['mean', 'median', 'std', 'sum']).reset_index()\n",
    "\n",
    "# Rename columns for clarity\n",
    "live_turnover_by_event.rename(columns={'mean': 'Mean_Turnover_Live', 'median': 'Median_Turnover_Live', \n",
    "                                        'std': 'Std_Turnover_Live', 'count': 'Sum_Live'}, inplace=True)\n",
    "pre_match_turnover_by_event.rename(columns={'mean': 'Mean_Turnover_Pre_Match', 'median': 'Median_Turnover_Pre_Match', \n",
    "                                            'std': 'Std_Turnover_Pre_Match', 'count': 'Sum_Pre_Match'}, inplace=True)\n",
    "\n",
    "# Merge both dataframes on eventName\n",
    "turnover_comparison = pd.merge(live_turnover_by_event, pre_match_turnover_by_event, on='league', how='outer')\n",
    "\n",
    "# 2. Visualize Turnover Distributions\n",
    "plt.figure(figsize=(14, 7))\n",
    "sns.boxplot(data=turnover_comparison[['Median_Turnover_Live', 'Median_Turnover_Pre_Match']], palette='Set2')\n",
    "plt.title('Turnover Distribution by Event: Live vs Pre-Match')\n",
    "plt.ylabel('Median Turnover (EUR)')\n",
    "plt.xticks(ticks=[0, 1], labels=['Live Betting', 'Pre-Match Betting'])\n",
    "plt.grid()\n",
    "plt.show()\n",
    "\n",
    "# 3. Summary Statistics\n",
    "print(\"Summary Statistics for Turnover Comparison:\")\n",
    "turnover_comparison.sort_values(['Mean_Turnover_Live', 'Mean_Turnover_Pre_Match'],ascending=False)[['league', 'Mean_Turnover_Live', 'Median_Turnover_Live', 'Mean_Turnover_Pre_Match', 'Median_Turnover_Pre_Match']].head(15)\n"
   ]
  },
  {
   "cell_type": "markdown",
   "metadata": {
    "application/vnd.databricks.v1+cell": {
     "cellMetadata": {},
     "inputWidgets": {},
     "nuid": "1ff34869-a31b-433e-82c0-70de4bb2acc0",
     "showTitle": false,
     "tableResultSettingsMap": {},
     "title": ""
    }
   },
   "source": [
    "Even though the data is skewed for Live vs Prematch, the median and mean turnover during the live match seems to be more than pre match. This shows that more people involve during live match and they like dynamic momentum of the game, and put more stakes during the game. Most people, instead of taking pre match decisions, studying the game and analysis, instead prefer to bet live."
   ]
  }
 ],
 "metadata": {
  "application/vnd.databricks.v1+notebook": {
   "computePreferences": null,
   "dashboards": [],
   "environmentMetadata": {
    "base_environment": "",
    "client": "1"
   },
   "language": "python",
   "notebookMetadata": {
    "mostRecentlyExecutedCommandWithImplicitDF": {
     "commandId": 5689228901564554,
     "dataframes": [
      "_sqldf"
     ]
    },
    "pythonIndentUnit": 4
   },
   "notebookName": "2_User&Market_behaviour",
   "widgets": {}
  },
  "language_info": {
   "name": "python"
  }
 },
 "nbformat": 4,
 "nbformat_minor": 0
}