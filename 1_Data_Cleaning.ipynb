{
 "cells": [
  {
   "cell_type": "markdown",
   "metadata": {
    "application/vnd.databricks.v1+cell": {
     "cellMetadata": {},
     "inputWidgets": {},
     "nuid": "b2f3fc11-0db6-43b8-9689-29bc222e43a8",
     "showTitle": false,
     "tableResultSettingsMap": {},
     "title": ""
    }
   },
   "source": [
    "**_This notebook concentrates on basic data cleaning required to use the data for all the future activities._**"
   ]
  },
  {
   "cell_type": "code",
   "execution_count": 0,
   "metadata": {
    "application/vnd.databricks.v1+cell": {
     "cellMetadata": {
      "byteLimit": 2048000,
      "rowLimit": 10000
     },
     "inputWidgets": {},
     "nuid": "dc01be5d-bed9-404b-8b29-e293986e1295",
     "showTitle": false,
     "tableResultSettingsMap": {},
     "title": ""
    }
   },
   "outputs": [],
   "source": [
    "import pandas as pd\n",
    "import numpy as np"
   ]
  },
  {
   "cell_type": "code",
   "execution_count": 0,
   "metadata": {
    "application/vnd.databricks.v1+cell": {
     "cellMetadata": {
      "byteLimit": 2048000,
      "rowLimit": 10000
     },
     "inputWidgets": {},
     "nuid": "5f21383c-cc68-4a9c-9e97-273caf7895b5",
     "showTitle": false,
     "tableResultSettingsMap": {},
     "title": ""
    }
   },
   "outputs": [],
   "source": [
    "df = pd.read_csv('/Workspace/Users/deepak.guru.ganesan@volvo.com/leovegas/dataset.csv')\n",
    "df.sort_values(['bet_placement_hour'], inplace=True)"
   ]
  },
  {
   "cell_type": "markdown",
   "metadata": {
    "application/vnd.databricks.v1+cell": {
     "cellMetadata": {
      "byteLimit": 2048000,
      "rowLimit": 10000
     },
     "inputWidgets": {},
     "nuid": "4d54ed8c-cdaa-4d4c-bae7-216f5c777804",
     "showTitle": false,
     "tableResultSettingsMap": {},
     "title": ""
    }
   },
   "source": [
    "#### Data Cleaning"
   ]
  },
  {
   "cell_type": "code",
   "execution_count": 0,
   "metadata": {
    "application/vnd.databricks.v1+cell": {
     "cellMetadata": {
      "byteLimit": 2048000,
      "rowLimit": 10000
     },
     "inputWidgets": {},
     "nuid": "87404e2d-f6a3-4402-af91-dfdb93b417c9",
     "showTitle": false,
     "tableResultSettingsMap": {},
     "title": ""
    }
   },
   "outputs": [
    {
     "output_type": "execute_result",
     "data": {
      "text/html": [
       "<div>\n",
       "<style scoped>\n",
       "    .dataframe tbody tr th:only-of-type {\n",
       "        vertical-align: middle;\n",
       "    }\n",
       "\n",
       "    .dataframe tbody tr th {\n",
       "        vertical-align: top;\n",
       "    }\n",
       "\n",
       "    .dataframe thead th {\n",
       "        text-align: right;\n",
       "    }\n",
       "</style>\n",
       "<table border=\"1\" class=\"dataframe\">\n",
       "  <thead>\n",
       "    <tr style=\"text-align: right;\">\n",
       "      <th></th>\n",
       "      <th>bet_placement_hour</th>\n",
       "      <th>eventId</th>\n",
       "      <th>eventName</th>\n",
       "      <th>eventStartDate</th>\n",
       "      <th>event_country</th>\n",
       "      <th>number_of_bets</th>\n",
       "      <th>total_turn_over_EUR</th>\n",
       "      <th>league</th>\n",
       "    </tr>\n",
       "  </thead>\n",
       "  <tbody>\n",
       "    <tr>\n",
       "      <th>0</th>\n",
       "      <td>2023-12-01</td>\n",
       "      <td>1020157185</td>\n",
       "      <td>Oklahoma Sooners - Arkansas-Pine Bluff Golden ...</td>\n",
       "      <td>2023-12-01 01:00:00</td>\n",
       "      <td>Unknown</td>\n",
       "      <td>3</td>\n",
       "      <td>49.582521</td>\n",
       "      <td>NCAAB</td>\n",
       "    </tr>\n",
       "    <tr>\n",
       "      <th>36</th>\n",
       "      <td>2023-12-01</td>\n",
       "      <td>1020030711</td>\n",
       "      <td>New York Knicks - Detroit Pistons</td>\n",
       "      <td>2023-12-01 00:41:20</td>\n",
       "      <td>USA</td>\n",
       "      <td>249</td>\n",
       "      <td>8841.198662</td>\n",
       "      <td>NBA</td>\n",
       "    </tr>\n",
       "    <tr>\n",
       "      <th>37</th>\n",
       "      <td>2023-12-01</td>\n",
       "      <td>1020030716</td>\n",
       "      <td>Dallas Mavericks - Memphis Grizzlies</td>\n",
       "      <td>2023-12-02 00:40:47</td>\n",
       "      <td>USA</td>\n",
       "      <td>8</td>\n",
       "      <td>0.296827</td>\n",
       "      <td>NBA</td>\n",
       "    </tr>\n",
       "    <tr>\n",
       "      <th>38</th>\n",
       "      <td>2023-12-01</td>\n",
       "      <td>1019711357</td>\n",
       "      <td>Cairns Taipans - Brisbane Bullets</td>\n",
       "      <td>2023-12-01 08:30:00</td>\n",
       "      <td>Australia</td>\n",
       "      <td>4</td>\n",
       "      <td>22.363404</td>\n",
       "      <td>NBL</td>\n",
       "    </tr>\n",
       "    <tr>\n",
       "      <th>39</th>\n",
       "      <td>2023-12-01</td>\n",
       "      <td>1020030718</td>\n",
       "      <td>Oklahoma City Thunder - Los Angeles Lakers</td>\n",
       "      <td>2023-12-01 01:10:56</td>\n",
       "      <td>USA</td>\n",
       "      <td>14</td>\n",
       "      <td>8.513354</td>\n",
       "      <td>NBA</td>\n",
       "    </tr>\n",
       "  </tbody>\n",
       "</table>\n",
       "</div>"
      ],
      "text/plain": [
       "   bet_placement_hour     eventId  ... total_turn_over_EUR league\n",
       "0          2023-12-01  1020157185  ...           49.582521  NCAAB\n",
       "36         2023-12-01  1020030711  ...         8841.198662    NBA\n",
       "37         2023-12-01  1020030716  ...            0.296827    NBA\n",
       "38         2023-12-01  1019711357  ...           22.363404    NBL\n",
       "39         2023-12-01  1020030718  ...            8.513354    NBA\n",
       "\n",
       "[5 rows x 8 columns]"
      ]
     },
     "execution_count": 4,
     "metadata": {},
     "output_type": "execute_result"
    }
   ],
   "source": [
    "#Wherever the country is replaced with league, they are interchanged¨\n",
    "df['temp_league'] = np.where(df['league'].isna(), df['event_country'], df['league']) \n",
    "df['event_country'] = np.where(df['league'].isna(), 'Unknown', df['event_country'])\n",
    "df = df.drop('league', axis=1)\n",
    "df = df.rename(columns={'temp_league':'league'})\n",
    "\n",
    "#Tried to create country for the most famous league\n",
    "df['event_country'] = np.where(df['league'].str.contains('NBA'), 'USA', df['event_country'])\n",
    "\n",
    "#Removed Milliseconds in teh Event Start date there by solving minor descrepancies with different start time for strange events\n",
    "df['eventStartDate'] = pd.to_datetime(df['eventStartDate'], format='%Y-%m-%d %H:%M:%S').dt.floor('S')\n",
    "df['bet_placement_hour'] = pd.to_datetime(df['bet_placement_hour'])\n",
    "\n",
    "#Different names for same event correction\n",
    "df['eventName'] = df.groupby('eventId')['eventName'].transform('first')\n",
    "\n",
    "df.head()"
   ]
  },
  {
   "cell_type": "markdown",
   "metadata": {
    "application/vnd.databricks.v1+cell": {
     "cellMetadata": {
      "byteLimit": 2048000,
      "rowLimit": 10000
     },
     "inputWidgets": {},
     "nuid": "0e8b6e44-b305-45cb-a7a8-6faeb1310dae",
     "showTitle": false,
     "tableResultSettingsMap": {},
     "title": ""
    }
   },
   "source": [
    "##### Event Start date cleaning"
   ]
  },
  {
   "cell_type": "code",
   "execution_count": 0,
   "metadata": {
    "application/vnd.databricks.v1+cell": {
     "cellMetadata": {
      "byteLimit": 2048000,
      "rowLimit": 10000
     },
     "inputWidgets": {},
     "nuid": "346cf784-5a5f-4f25-82b7-d6a47055e728",
     "showTitle": false,
     "tableResultSettingsMap": {},
     "title": ""
    }
   },
   "outputs": [
    {
     "output_type": "stream",
     "name": "stdout",
     "output_type": "stream",
     "text": [
      "228954\n"
     ]
    }
   ],
   "source": [
    "## Seconds Cleaning \n",
    "df = df.groupby(['eventId', 'bet_placement_hour','eventName','league','event_country','eventStartDate']).agg({'number_of_bets': 'sum','total_turn_over_EUR': 'sum'}).reset_index()\n",
    "\n",
    "##EvenStart date hours cleaning\n",
    "df['eventStartDate'] = df.groupby(['eventId'])[\"eventStartDate\"].transform(\"max\")\n",
    "df = df.groupby(['eventId', 'bet_placement_hour','eventName','league','event_country','eventStartDate']).agg({'number_of_bets': 'sum','total_turn_over_EUR': 'sum'}).reset_index()\n",
    "\n",
    "df = df[(df[\"number_of_bets\"] != 0)]  ###Removing rows where the number of bets is 0\n",
    "print(len(df))"
   ]
  },
  {
   "cell_type": "code",
   "execution_count": 0,
   "metadata": {
    "application/vnd.databricks.v1+cell": {
     "cellMetadata": {
      "byteLimit": 2048000,
      "rowLimit": 10000
     },
     "inputWidgets": {},
     "nuid": "9a8a8f3d-4329-414a-9521-77a6a92027f9",
     "showTitle": false,
     "tableResultSettingsMap": {},
     "title": ""
    }
   },
   "outputs": [],
   "source": [
    "df.to_csv('/Workspace/Users/deepak.guru.ganesan@volvo.com/leovegas/dataset_cleaned.csv')"
   ]
  }
 ],
 "metadata": {
  "application/vnd.databricks.v1+notebook": {
   "computePreferences": null,
   "dashboards": [],
   "environmentMetadata": {
    "base_environment": "",
    "client": "1"
   },
   "language": "python",
   "notebookMetadata": {
    "mostRecentlyExecutedCommandWithImplicitDF": {
     "commandId": 5689228901564554,
     "dataframes": [
      "_sqldf"
     ]
    },
    "pythonIndentUnit": 4
   },
   "notebookName": "1_Data_Cleaning",
   "widgets": {}
  },
  "language_info": {
   "name": "python"
  }
 },
 "nbformat": 4,
 "nbformat_minor": 0
}